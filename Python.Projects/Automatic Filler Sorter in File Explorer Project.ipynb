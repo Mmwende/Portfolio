{
 "cells": [
  {
   "cell_type": "markdown",
   "id": "a64d24ce",
   "metadata": {},
   "source": [
    "**python.Project2**"
   ]
  },
  {
   "cell_type": "code",
   "execution_count": 6,
   "id": "b35d0157",
   "metadata": {},
   "outputs": [],
   "source": [
    "import os, shutil"
   ]
  },
  {
   "cell_type": "code",
   "execution_count": 40,
   "id": "fe31ad37",
   "metadata": {},
   "outputs": [],
   "source": [
    "path = r\"D:/python.Project2/\""
   ]
  },
  {
   "cell_type": "code",
   "execution_count": 7,
   "id": "59d80cb8",
   "metadata": {},
   "outputs": [
    {
     "data": {
      "text/plain": [
       "['Disobedience_2017_3_kissTVSeries.com.mp4',\n",
       " 'download (1).jfif',\n",
       " 'download.jfif',\n",
       " 'images.jfif',\n",
       " 'INDUSTRIAL ATTACHMENT REPORT (1).docx',\n",
       " 'New Microsoft Excel Worksheet.xlsx',\n",
       " 'verbit guideliness.pdf',\n",
       " 'WhatsApp Image 2023-05-31 at 10.50.11.jpeg']"
      ]
     },
     "execution_count": 7,
     "metadata": {},
     "output_type": "execute_result"
    }
   ],
   "source": [
    "os.listdir(path)"
   ]
  },
  {
   "cell_type": "code",
   "execution_count": 8,
   "id": "441c8d02",
   "metadata": {},
   "outputs": [
    {
     "data": {
      "text/plain": [
       "False"
      ]
     },
     "execution_count": 8,
     "metadata": {},
     "output_type": "execute_result"
    }
   ],
   "source": [
    "os.path.exists(path + 'csv files')"
   ]
  },
  {
   "cell_type": "code",
   "execution_count": 44,
   "id": "d9e923db",
   "metadata": {},
   "outputs": [],
   "source": [
    "file_name=os.listdir(path)"
   ]
  },
  {
   "cell_type": "code",
   "execution_count": 51,
   "id": "7f6111da",
   "metadata": {},
   "outputs": [],
   "source": [
    "folder_names = ['csv files', 'image files', 'text files', 'mp4 files', 'excel files']\n",
    "\n",
    "for loop in range(0,3):\n",
    "    if not os.path.exists(path + folder_names[loop]):\n",
    "        print(path + folder_names[loop])\n",
    "        os.makedirs(path + folder_names[loop])"
   ]
  },
  {
   "cell_type": "code",
   "execution_count": 53,
   "id": "2832da79",
   "metadata": {},
   "outputs": [
    {
     "name": "stdout",
     "output_type": "stream",
     "text": [
      "Coding done\n",
      "Coding done\n",
      "Coding done\n",
      "Coding done\n",
      "Coding done\n",
      "Coding done\n",
      "Coding done\n",
      "Coding done\n",
      "Coding done\n",
      "Coding done\n",
      "Coding done\n",
      "Coding done\n"
     ]
    }
   ],
   "source": [
    "for file in file_name:\n",
    "    if \".csv\" in file and not os.path.exists(path + \"csv files/\" + file):\n",
    "        shutill.move(path + file,path + \"csv files/\" + file)\n",
    "    elif \".png\"in file and not os.path.exists(path + \"png files/\" + file):\n",
    "        shutill.move(path + file,path + \"image files/\" + file)\n",
    "    elif \".txt\"in file and not os.path.exists(path + \"txt files/\" + file):   \n",
    "        shutill.move(path + file,path + \"text files/\" + file)\n",
    "    else:\n",
    "        print (\"Coding done\")"
   ]
  },
  {
   "cell_type": "code",
   "execution_count": null,
   "id": "b8b99795",
   "metadata": {},
   "outputs": [],
   "source": []
  },
  {
   "cell_type": "code",
   "execution_count": null,
   "id": "8c09ef32",
   "metadata": {},
   "outputs": [],
   "source": []
  }
 ],
 "metadata": {
  "kernelspec": {
   "display_name": "Python 3 (ipykernel)",
   "language": "python",
   "name": "python3"
  },
  "language_info": {
   "codemirror_mode": {
    "name": "ipython",
    "version": 3
   },
   "file_extension": ".py",
   "mimetype": "text/x-python",
   "name": "python",
   "nbconvert_exporter": "python",
   "pygments_lexer": "ipython3",
   "version": "3.10.9"
  }
 },
 "nbformat": 4,
 "nbformat_minor": 5
}
