{
 "cells": [
  {
   "cell_type": "markdown",
   "id": "d3670be5",
   "metadata": {},
   "source": [
    "**python.Project1**"
   ]
  },
  {
   "cell_type": "code",
   "execution_count": 24,
   "id": "6c0ba1d4",
   "metadata": {},
   "outputs": [
    {
     "name": "stdout",
     "output_type": "stream",
     "text": [
      "Martha\n"
     ]
    }
   ],
   "source": [
    "Name = input()"
   ]
  },
  {
   "cell_type": "code",
   "execution_count": 4,
   "id": "ebe6da7e",
   "metadata": {},
   "outputs": [
    {
     "name": "stdout",
     "output_type": "stream",
     "text": [
      "Martha\n"
     ]
    }
   ],
   "source": [
    "print(Name)"
   ]
  },
  {
   "cell_type": "code",
   "execution_count": 9,
   "id": "a773e848",
   "metadata": {},
   "outputs": [
    {
     "name": "stdout",
     "output_type": "stream",
     "text": [
      "121\n"
     ]
    }
   ],
   "source": [
    "Weight = input()"
   ]
  },
  {
   "cell_type": "code",
   "execution_count": 11,
   "id": "cae54f9b",
   "metadata": {},
   "outputs": [
    {
     "name": "stdout",
     "output_type": "stream",
     "text": [
      "121\n"
     ]
    }
   ],
   "source": [
    "print(Weight)"
   ]
  },
  {
   "cell_type": "code",
   "execution_count": 12,
   "id": "c4f0e306",
   "metadata": {},
   "outputs": [
    {
     "name": "stdout",
     "output_type": "stream",
     "text": [
      "60\n"
     ]
    }
   ],
   "source": [
    "Height = input()"
   ]
  },
  {
   "cell_type": "code",
   "execution_count": 14,
   "id": "10a562d8",
   "metadata": {},
   "outputs": [
    {
     "name": "stdout",
     "output_type": "stream",
     "text": [
      "60\n"
     ]
    }
   ],
   "source": [
    "print(Height)"
   ]
  },
  {
   "cell_type": "code",
   "execution_count": 15,
   "id": "f013b666",
   "metadata": {},
   "outputs": [
    {
     "name": "stdout",
     "output_type": "stream",
     "text": [
      "Enter your weight in pounds: 122\n",
      "Enter your height in inches: 60\n"
     ]
    }
   ],
   "source": [
    "Weight = input(\"Enter your weight in pounds: \")\n",
    "\n",
    "Height = input(\"Enter your height in inches: \")"
   ]
  },
  {
   "cell_type": "code",
   "execution_count": null,
   "id": "936d8e23",
   "metadata": {},
   "outputs": [],
   "source": [
    "BMI = (Weight * 703) / (Height * height)"
   ]
  },
  {
   "cell_type": "code",
   "execution_count": 17,
   "id": "d001b26c",
   "metadata": {},
   "outputs": [
    {
     "name": "stdout",
     "output_type": "stream",
     "text": [
      "Enter your weight in pounds: 122\n",
      "Enter your height in inches: 60\n",
      "23.823888888888888\n"
     ]
    }
   ],
   "source": [
    "Weight = int(input(\"Enter your weight in pounds: \"))\n",
    "\n",
    "Height = int(input(\"Enter your height in inches: \"))\n",
    "\n",
    "BMI = (Weight * 703) / ( Height * Height)\n",
    "\n",
    "print(BMI)"
   ]
  },
  {
   "cell_type": "code",
   "execution_count": 28,
   "id": "57ac6133",
   "metadata": {},
   "outputs": [
    {
     "name": "stdout",
     "output_type": "stream",
     "text": [
      "Name: David\n",
      "Enter your weight in pounds: 130\n",
      "Enter your height in inches: 64\n",
      "22.31201171875\n"
     ]
    }
   ],
   "source": [
    "Name = input(\"Name: \")\n",
    "Weight = int(input(\"Enter your weight in pounds: \"))\n",
    "\n",
    "Height = int(input(\"Enter your height in inches: \"))\n",
    "\n",
    "BMI = (Weight * 703) / ( Height * Height)\n",
    "\n",
    "print(BMI)"
   ]
  },
  {
   "cell_type": "code",
   "execution_count": null,
   "id": "e6ea8a55",
   "metadata": {},
   "outputs": [],
   "source": [
    "\n",
    "BMI ranges\n",
    "under 18.5 – underweight. \n",
    "between 18.5 and 24.9 – ‘healthy range’.\n",
    "between 25 and 29.9 –  overweight\n",
    "between 30 and 39.9 –  obesity\n",
    "40 or over – severe obesity"
   ]
  },
  {
   "cell_type": "code",
   "execution_count": 29,
   "id": "52f7bab6",
   "metadata": {},
   "outputs": [
    {
     "name": "stdout",
     "output_type": "stream",
     "text": [
      "Healthy Range\n"
     ]
    }
   ],
   "source": [
    "if BMI>0:\n",
    "    if(BMI<18.5):\n",
    "        print(\"Underweight\")\n",
    "    elif(BMI<24.9):\n",
    "        print(\"Healthy Range\")\n",
    "    elif(BMI<29.9):\n",
    "        print(\"Overweight\")\n",
    "    elif(BMI<39.9):\n",
    "        print(\"Obesity\")\n",
    "    elif(BMI>40):\n",
    "        print(\"See Nutritionist\")\n",
    "    else:\n",
    "        print(\"Invalid Points\")"
   ]
  },
  {
   "cell_type": "code",
   "execution_count": 30,
   "id": "42af0737",
   "metadata": {},
   "outputs": [
    {
     "name": "stdout",
     "output_type": "stream",
     "text": [
      "Name: Maggy\n",
      "Enter your weight in pounds: 190\n",
      "Enter your height in inches: 100\n",
      "13.357\n",
      "Underweight\n"
     ]
    }
   ],
   "source": [
    "Name = input(\"Name: \")\n",
    "Weight = int(input(\"Enter your weight in pounds: \"))\n",
    "\n",
    "Height = int(input(\"Enter your height in inches: \"))\n",
    "\n",
    "BMI = (Weight * 703) / ( Height * Height)\n",
    "\n",
    "print(BMI)\n",
    "\n",
    "if BMI>0:\n",
    "    if(BMI<18.5):\n",
    "        print(\"Underweight\")\n",
    "    elif(BMI<24.9):\n",
    "        print(\"Healthy Range\")\n",
    "    elif(BMI<29.9):\n",
    "        print(\"Overweight\")\n",
    "    elif(BMI<39.9):\n",
    "        print(\"Obesity\")\n",
    "    elif(BMI>40):\n",
    "        print(\"See Nutritionist\")\n",
    "    else:\n",
    "        print(\"Invalid Points\")"
   ]
  },
  {
   "cell_type": "code",
   "execution_count": 32,
   "id": "136adbd8",
   "metadata": {},
   "outputs": [
    {
     "name": "stdout",
     "output_type": "stream",
     "text": [
      "Underweight, Please eat a balanced diet\n"
     ]
    }
   ],
   "source": [
    "if BMI>0:\n",
    "    if(BMI<18.5):\n",
    "        print(\"Underweight\" + \", Please eat a balanced diet\")\n",
    "    elif(BMI<24.9):\n",
    "        print(\"Healthy Range\" + \", Continue with the same diet\")\n",
    "    elif(BMI<29.9):\n",
    "        print(\"Overweight\" + \", Avoid fats and oils food\")\n",
    "    elif(BMI<39.9):\n",
    "        print(\"Obesity\"+ \", Exercise and avoid faty food\")\n",
    "    elif(BMI>40):\n",
    "        print(\"See Nutritionist\")\n",
    "    else:\n",
    "        print(\"Invalid Points\")"
   ]
  },
  {
   "cell_type": "code",
   "execution_count": 33,
   "id": "c7a00005",
   "metadata": {},
   "outputs": [
    {
     "name": "stdout",
     "output_type": "stream",
     "text": [
      "Name: Sammy\n",
      "Enter your weight in pounds: 150\n",
      "Enter your height in inches: 40\n",
      "65.90625\n",
      "See Nutritionist\n"
     ]
    }
   ],
   "source": [
    "Name = input(\"Name: \")\n",
    "Weight = int(input(\"Enter your weight in pounds: \"))\n",
    "\n",
    "Height = int(input(\"Enter your height in inches: \"))\n",
    "\n",
    "BMI = (Weight * 703) / ( Height * Height)\n",
    "\n",
    "print(BMI)\n",
    "if BMI>0:\n",
    "    if(BMI<18.5):\n",
    "        print(\"Underweight\" + \", Please eat a balanced diet\")\n",
    "    elif(BMI<24.9):\n",
    "        print(\"Healthy Range\" + \", Continue with the same diet\")\n",
    "    elif(BMI<29.9):\n",
    "        print(\"Overweight\" + \", Avoid fats and oils food\")\n",
    "    elif(BMI<39.9):\n",
    "        print(\"Obesity\"+ \", Exercise and avoid faty food\")\n",
    "    elif(BMI>40):\n",
    "        print(\"See Nutritionist\")\n",
    "    else:\n",
    "        print(\"Invalid Points\")"
   ]
  },
  {
   "cell_type": "code",
   "execution_count": null,
   "id": "4f771752",
   "metadata": {},
   "outputs": [],
   "source": []
  }
 ],
 "metadata": {
  "kernelspec": {
   "display_name": "Python 3 (ipykernel)",
   "language": "python",
   "name": "python3"
  },
  "language_info": {
   "codemirror_mode": {
    "name": "ipython",
    "version": 3
   },
   "file_extension": ".py",
   "mimetype": "text/x-python",
   "name": "python",
   "nbconvert_exporter": "python",
   "pygments_lexer": "ipython3",
   "version": "3.10.9"
  }
 },
 "nbformat": 4,
 "nbformat_minor": 5
}
